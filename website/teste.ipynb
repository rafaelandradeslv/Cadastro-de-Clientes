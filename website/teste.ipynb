{
 "cells": [
  {
   "cell_type": "markdown",
   "id": "55309db3",
   "metadata": {},
   "source": [
    "## Simulação Chamada API"
   ]
  },
  {
   "cell_type": "code",
   "execution_count": 148,
   "id": "4d01ab87",
   "metadata": {},
   "outputs": [],
   "source": [
    "import pandas as pd\n",
    "import numpy as np\n",
    "import requests\n",
    "import json"
   ]
  },
  {
   "cell_type": "code",
   "execution_count": 275,
   "id": "c016f2af",
   "metadata": {},
   "outputs": [
    {
     "data": {
      "text/plain": [
       "(2, 13)"
      ]
     },
     "execution_count": 275,
     "metadata": {},
     "output_type": "execute_result"
    }
   ],
   "source": [
    "df_principal = pd.read_csv('../data/clientes.csv', sep=';')\n",
    "df_principal.shape"
   ]
  },
  {
   "cell_type": "markdown",
   "id": "642a9df9",
   "metadata": {},
   "source": [
    "#### Criando o primeiro dataset - simulando o formulário"
   ]
  },
  {
   "cell_type": "code",
   "execution_count": 262,
   "id": "80910987",
   "metadata": {},
   "outputs": [
    {
     "data": {
      "text/html": [
       "<div>\n",
       "<style scoped>\n",
       "    .dataframe tbody tr th:only-of-type {\n",
       "        vertical-align: middle;\n",
       "    }\n",
       "\n",
       "    .dataframe tbody tr th {\n",
       "        vertical-align: top;\n",
       "    }\n",
       "\n",
       "    .dataframe thead th {\n",
       "        text-align: right;\n",
       "    }\n",
       "</style>\n",
       "<table border=\"1\" class=\"dataframe\">\n",
       "  <thead>\n",
       "    <tr style=\"text-align: right;\">\n",
       "      <th></th>\n",
       "      <th>nome</th>\n",
       "      <th>sobrenome</th>\n",
       "      <th>email</th>\n",
       "    </tr>\n",
       "  </thead>\n",
       "  <tbody>\n",
       "    <tr>\n",
       "      <th>0</th>\n",
       "      <td>rafa</td>\n",
       "      <td>silva</td>\n",
       "      <td>rafa@com</td>\n",
       "    </tr>\n",
       "  </tbody>\n",
       "</table>\n",
       "</div>"
      ],
      "text/plain": [
       "   nome sobrenome     email\n",
       "0  rafa     silva  rafa@com"
      ]
     },
     "execution_count": 262,
     "metadata": {},
     "output_type": "execute_result"
    }
   ],
   "source": [
    "class Pessoa:\n",
    "    def __init__(self, nome, sobrenome, email, cep):\n",
    "        self.nome = nome\n",
    "        self.sobrenome = sobrenome\n",
    "        self.email = email\n",
    "        self.cep = cep\n",
    "        \n",
    "    def busca(self):\n",
    "        response = requests.get(f'http://www.viacep.com.br/ws/{self.cep}/json/')\n",
    "        # validando cep\n",
    "        if response.status_code == 200:\n",
    "            dados_json = json.loads(response.text)\n",
    "            df = pd.DataFrame(data = dados_json, index=[0])\n",
    "        else:\n",
    "            print('Cep inválido !')\n",
    "        return df\n",
    "        \n",
    "    \n",
    "pessoa1 = Pessoa('rafa', 'silva', 'rafa@com', '25922000')\n",
    "pessoa2 = Pessoa('teclado','sem fio', 'tec@com', '25922000')\n",
    "\n",
    "dicio = {\n",
    "    'nome': pessoa1.nome,\n",
    "    'sobrenome': pessoa1.sobrenome,\n",
    "    'email': pessoa1.email,\n",
    "    }\n",
    "#     {\n",
    "#      'nome': pessoa2.nome,\n",
    "#      'sobrenome': pessoa2.sobrenome,\n",
    "#      'email': pessoa2.email,\n",
    "#     }\n",
    "    \n",
    "# ]\n",
    "\n",
    "df1 = pd.DataFrame(data= dicio, index=[0])\n",
    "# df1 = pd.DataFrame(data = dicio[0], index=[0])\n",
    "# df1.loc[len(df1)] = dicio[1]\n",
    "df1"
   ]
  },
  {
   "cell_type": "markdown",
   "id": "9c09b9dc",
   "metadata": {},
   "source": [
    "#### Criando o segundo dataset - simulando a API"
   ]
  },
  {
   "cell_type": "code",
   "execution_count": 255,
   "id": "bab9a616",
   "metadata": {},
   "outputs": [],
   "source": [
    "df2 = pessoa1.busca()"
   ]
  },
  {
   "cell_type": "code",
   "execution_count": 256,
   "id": "20316415",
   "metadata": {
    "format": "row"
   },
   "outputs": [
    {
     "data": {
      "text/html": [
       "<div>\n",
       "<style scoped>\n",
       "    .dataframe tbody tr th:only-of-type {\n",
       "        vertical-align: middle;\n",
       "    }\n",
       "\n",
       "    .dataframe tbody tr th {\n",
       "        vertical-align: top;\n",
       "    }\n",
       "\n",
       "    .dataframe thead th {\n",
       "        text-align: right;\n",
       "    }\n",
       "</style>\n",
       "<table border=\"1\" class=\"dataframe\">\n",
       "  <thead>\n",
       "    <tr style=\"text-align: right;\">\n",
       "      <th></th>\n",
       "      <th>cep</th>\n",
       "      <th>logradouro</th>\n",
       "      <th>complemento</th>\n",
       "      <th>bairro</th>\n",
       "      <th>localidade</th>\n",
       "      <th>uf</th>\n",
       "      <th>ibge</th>\n",
       "      <th>gia</th>\n",
       "      <th>ddd</th>\n",
       "      <th>siafi</th>\n",
       "    </tr>\n",
       "  </thead>\n",
       "  <tbody>\n",
       "    <tr>\n",
       "      <th>0</th>\n",
       "      <td>25922-000</td>\n",
       "      <td>Rua J</td>\n",
       "      <td></td>\n",
       "      <td>Parque Itinga (Suruí)</td>\n",
       "      <td>Magé</td>\n",
       "      <td>RJ</td>\n",
       "      <td>3302502</td>\n",
       "      <td></td>\n",
       "      <td>21</td>\n",
       "      <td>5849</td>\n",
       "    </tr>\n",
       "  </tbody>\n",
       "</table>\n",
       "</div>"
      ],
      "text/plain": [
       "         cep logradouro complemento                 bairro localidade  uf  \\\n",
       "0  25922-000      Rua J              Parque Itinga (Suruí)       Magé  RJ   \n",
       "\n",
       "      ibge gia ddd siafi  \n",
       "0  3302502      21  5849  "
      ]
     },
     "execution_count": 256,
     "metadata": {},
     "output_type": "execute_result"
    }
   ],
   "source": [
    "# teste para adicionar novas linhas\n",
    "b2 = pessoa2.busca()\n",
    "df2.loc[len(df2)] = b2.values[0]\n",
    "b2\n"
   ]
  },
  {
   "cell_type": "code",
   "execution_count": 257,
   "id": "ab10e085",
   "metadata": {},
   "outputs": [
    {
     "data": {
      "text/html": [
       "<div>\n",
       "<style scoped>\n",
       "    .dataframe tbody tr th:only-of-type {\n",
       "        vertical-align: middle;\n",
       "    }\n",
       "\n",
       "    .dataframe tbody tr th {\n",
       "        vertical-align: top;\n",
       "    }\n",
       "\n",
       "    .dataframe thead th {\n",
       "        text-align: right;\n",
       "    }\n",
       "</style>\n",
       "<table border=\"1\" class=\"dataframe\">\n",
       "  <thead>\n",
       "    <tr style=\"text-align: right;\">\n",
       "      <th></th>\n",
       "      <th>cep</th>\n",
       "      <th>logradouro</th>\n",
       "      <th>complemento</th>\n",
       "      <th>bairro</th>\n",
       "      <th>localidade</th>\n",
       "      <th>uf</th>\n",
       "      <th>ibge</th>\n",
       "      <th>gia</th>\n",
       "      <th>ddd</th>\n",
       "      <th>siafi</th>\n",
       "    </tr>\n",
       "  </thead>\n",
       "  <tbody>\n",
       "    <tr>\n",
       "      <th>0</th>\n",
       "      <td>25922-000</td>\n",
       "      <td>Rua J</td>\n",
       "      <td></td>\n",
       "      <td>Parque Itinga (Suruí)</td>\n",
       "      <td>Magé</td>\n",
       "      <td>RJ</td>\n",
       "      <td>3302502</td>\n",
       "      <td></td>\n",
       "      <td>21</td>\n",
       "      <td>5849</td>\n",
       "    </tr>\n",
       "    <tr>\n",
       "      <th>1</th>\n",
       "      <td>25922-000</td>\n",
       "      <td>Rua J</td>\n",
       "      <td></td>\n",
       "      <td>Parque Itinga (Suruí)</td>\n",
       "      <td>Magé</td>\n",
       "      <td>RJ</td>\n",
       "      <td>3302502</td>\n",
       "      <td></td>\n",
       "      <td>21</td>\n",
       "      <td>5849</td>\n",
       "    </tr>\n",
       "  </tbody>\n",
       "</table>\n",
       "</div>"
      ],
      "text/plain": [
       "         cep logradouro complemento                 bairro localidade  uf  \\\n",
       "0  25922-000      Rua J              Parque Itinga (Suruí)       Magé  RJ   \n",
       "1  25922-000      Rua J              Parque Itinga (Suruí)       Magé  RJ   \n",
       "\n",
       "      ibge gia ddd siafi  \n",
       "0  3302502      21  5849  \n",
       "1  3302502      21  5849  "
      ]
     },
     "execution_count": 257,
     "metadata": {},
     "output_type": "execute_result"
    }
   ],
   "source": [
    "b2.loc[len(b2)] = df2.values[0]\n",
    "b2"
   ]
  },
  {
   "cell_type": "markdown",
   "id": "ba4200f5",
   "metadata": {},
   "source": [
    "#### Criei dois dataframes, pretendo agora concatená-los e ter apenas um dataframe.\n",
    "> Para isso vou utilizar a função <strong>concat ([objeto_da_esquerda, objeto_da_direita], axis =1)</strong><br>\n",
    "Passar o método axis=1 para juntar o índice das linhas eo ignore_index=True para sobrescrever valores null"
   ]
  },
  {
   "cell_type": "code",
   "execution_count": 223,
   "id": "361721c1",
   "metadata": {},
   "outputs": [
    {
     "data": {
      "text/html": [
       "<div>\n",
       "<style scoped>\n",
       "    .dataframe tbody tr th:only-of-type {\n",
       "        vertical-align: middle;\n",
       "    }\n",
       "\n",
       "    .dataframe tbody tr th {\n",
       "        vertical-align: top;\n",
       "    }\n",
       "\n",
       "    .dataframe thead th {\n",
       "        text-align: right;\n",
       "    }\n",
       "</style>\n",
       "<table border=\"1\" class=\"dataframe\">\n",
       "  <thead>\n",
       "    <tr style=\"text-align: right;\">\n",
       "      <th></th>\n",
       "      <th>0</th>\n",
       "      <th>1</th>\n",
       "      <th>2</th>\n",
       "      <th>3</th>\n",
       "      <th>4</th>\n",
       "      <th>5</th>\n",
       "      <th>6</th>\n",
       "      <th>7</th>\n",
       "      <th>8</th>\n",
       "      <th>9</th>\n",
       "      <th>10</th>\n",
       "      <th>11</th>\n",
       "      <th>12</th>\n",
       "    </tr>\n",
       "  </thead>\n",
       "  <tbody>\n",
       "    <tr>\n",
       "      <th>0</th>\n",
       "      <td>rafa</td>\n",
       "      <td>silva</td>\n",
       "      <td>rafa@com</td>\n",
       "      <td>25922-160</td>\n",
       "      <td>Rua Carijós</td>\n",
       "      <td></td>\n",
       "      <td>Vila Nova (Suruí)</td>\n",
       "      <td>Magé</td>\n",
       "      <td>RJ</td>\n",
       "      <td>3302502</td>\n",
       "      <td></td>\n",
       "      <td>21</td>\n",
       "      <td>5849</td>\n",
       "    </tr>\n",
       "    <tr>\n",
       "      <th>1</th>\n",
       "      <td>teclado</td>\n",
       "      <td>sem fio</td>\n",
       "      <td>tec@com</td>\n",
       "      <td>25922-000</td>\n",
       "      <td>Rua J</td>\n",
       "      <td></td>\n",
       "      <td>Parque Itinga (Suruí)</td>\n",
       "      <td>Magé</td>\n",
       "      <td>RJ</td>\n",
       "      <td>3302502</td>\n",
       "      <td></td>\n",
       "      <td>21</td>\n",
       "      <td>5849</td>\n",
       "    </tr>\n",
       "  </tbody>\n",
       "</table>\n",
       "</div>"
      ],
      "text/plain": [
       "        0        1         2          3            4  5   \\\n",
       "0     rafa    silva  rafa@com  25922-160  Rua Carijós      \n",
       "1  teclado  sem fio   tec@com  25922-000        Rua J      \n",
       "\n",
       "                      6     7   8        9  10  11    12  \n",
       "0      Vila Nova (Suruí)  Magé  RJ  3302502     21  5849  \n",
       "1  Parque Itinga (Suruí)  Magé  RJ  3302502     21  5849  "
      ]
     },
     "execution_count": 223,
     "metadata": {},
     "output_type": "execute_result"
    }
   ],
   "source": [
    "result = pd.concat([df1, df2], axis=1, ignore_index=True)\n",
    "result"
   ]
  },
  {
   "cell_type": "markdown",
   "id": "22c43b8f",
   "metadata": {},
   "source": [
    "#### Obtem nomes colunas do df_principal"
   ]
  },
  {
   "cell_type": "code",
   "execution_count": 224,
   "id": "0bdb5371",
   "metadata": {},
   "outputs": [],
   "source": [
    "columns_name = []\n",
    "for i in df_principal:\n",
    "    columns_name.append(i)\n",
    "result.columns = columns_name\n"
   ]
  },
  {
   "cell_type": "code",
   "execution_count": 222,
   "id": "44148d24",
   "metadata": {},
   "outputs": [
    {
     "name": "stdout",
     "output_type": "stream",
     "text": [
      "nome\n",
      "sobrenome\n",
      "email\n",
      "cep\n",
      "logradouro\n",
      "complemento\n",
      "bairro\n",
      "localidade\n",
      "uf\n",
      "ibge\n",
      "gia\n",
      "ddd\n",
      "siafi\n"
     ]
    }
   ],
   "source": [
    "for i in result.columns:\n",
    "    print (i)"
   ]
  },
  {
   "cell_type": "markdown",
   "id": "01069479",
   "metadata": {},
   "source": [
    "#### Aqui finalizo a simulação"
   ]
  },
  {
   "cell_type": "code",
   "execution_count": 155,
   "id": "4d3918d9",
   "metadata": {},
   "outputs": [
    {
     "data": {
      "text/html": [
       "<div>\n",
       "<style scoped>\n",
       "    .dataframe tbody tr th:only-of-type {\n",
       "        vertical-align: middle;\n",
       "    }\n",
       "\n",
       "    .dataframe tbody tr th {\n",
       "        vertical-align: top;\n",
       "    }\n",
       "\n",
       "    .dataframe thead th {\n",
       "        text-align: right;\n",
       "    }\n",
       "</style>\n",
       "<table border=\"1\" class=\"dataframe\">\n",
       "  <thead>\n",
       "    <tr style=\"text-align: right;\">\n",
       "      <th></th>\n",
       "      <th>nome</th>\n",
       "      <th>sobrenome</th>\n",
       "      <th>email</th>\n",
       "      <th>cep</th>\n",
       "      <th>logradouro</th>\n",
       "      <th>complemento</th>\n",
       "      <th>bairro</th>\n",
       "      <th>localidade</th>\n",
       "      <th>uf</th>\n",
       "      <th>ibge</th>\n",
       "      <th>gia</th>\n",
       "      <th>ddd</th>\n",
       "      <th>siafi</th>\n",
       "    </tr>\n",
       "  </thead>\n",
       "  <tbody>\n",
       "    <tr>\n",
       "      <th>0</th>\n",
       "      <td>Rodrigo</td>\n",
       "      <td>Pires</td>\n",
       "      <td>rodrigo@email.com</td>\n",
       "      <td>1001000</td>\n",
       "      <td>Praça da Sé</td>\n",
       "      <td>lado ímpar</td>\n",
       "      <td>Sé</td>\n",
       "      <td>São Paulo</td>\n",
       "      <td>SP</td>\n",
       "      <td>3550308</td>\n",
       "      <td>1004</td>\n",
       "      <td>11</td>\n",
       "      <td>7107</td>\n",
       "    </tr>\n",
       "    <tr>\n",
       "      <th>1</th>\n",
       "      <td>Guilherme</td>\n",
       "      <td>Fernandes</td>\n",
       "      <td>guilherme@email.com</td>\n",
       "      <td>1001010</td>\n",
       "      <td>Rua Filipe de Oliveira</td>\n",
       "      <td>NaN</td>\n",
       "      <td>Sé</td>\n",
       "      <td>São Paulo</td>\n",
       "      <td>SP</td>\n",
       "      <td>3550308</td>\n",
       "      <td>1004</td>\n",
       "      <td>11</td>\n",
       "      <td>7107</td>\n",
       "    </tr>\n",
       "    <tr>\n",
       "      <th>0</th>\n",
       "      <td>rafa</td>\n",
       "      <td>silva</td>\n",
       "      <td>rafa@com</td>\n",
       "      <td>25922-160</td>\n",
       "      <td>Rua Carijós</td>\n",
       "      <td></td>\n",
       "      <td>Vila Nova (Suruí)</td>\n",
       "      <td>Magé</td>\n",
       "      <td>RJ</td>\n",
       "      <td>3302502</td>\n",
       "      <td></td>\n",
       "      <td>21</td>\n",
       "      <td>5849</td>\n",
       "    </tr>\n",
       "    <tr>\n",
       "      <th>1</th>\n",
       "      <td>teclado</td>\n",
       "      <td>sem fio</td>\n",
       "      <td>tec@com</td>\n",
       "      <td>25922-000</td>\n",
       "      <td>Rua J</td>\n",
       "      <td></td>\n",
       "      <td>Parque Itinga (Suruí)</td>\n",
       "      <td>Magé</td>\n",
       "      <td>RJ</td>\n",
       "      <td>3302502</td>\n",
       "      <td></td>\n",
       "      <td>21</td>\n",
       "      <td>5849</td>\n",
       "    </tr>\n",
       "  </tbody>\n",
       "</table>\n",
       "</div>"
      ],
      "text/plain": [
       "        nome  sobrenome                email        cep  \\\n",
       "0    Rodrigo      Pires    rodrigo@email.com    1001000   \n",
       "1  Guilherme  Fernandes  guilherme@email.com    1001010   \n",
       "0       rafa      silva             rafa@com  25922-160   \n",
       "1    teclado    sem fio              tec@com  25922-000   \n",
       "\n",
       "               logradouro complemento                 bairro localidade  uf  \\\n",
       "0             Praça da Sé  lado ímpar                     Sé  São Paulo  SP   \n",
       "1  Rua Filipe de Oliveira         NaN                     Sé  São Paulo  SP   \n",
       "0             Rua Carijós                  Vila Nova (Suruí)       Magé  RJ   \n",
       "1                   Rua J              Parque Itinga (Suruí)       Magé  RJ   \n",
       "\n",
       "      ibge   gia ddd siafi  \n",
       "0  3550308  1004  11  7107  \n",
       "1  3550308  1004  11  7107  \n",
       "0  3302502        21  5849  \n",
       "1  3302502        21  5849  "
      ]
     },
     "execution_count": 155,
     "metadata": {},
     "output_type": "execute_result"
    }
   ],
   "source": [
    "df_principal = pd.concat([df_principal, result])\n",
    "df_principal"
   ]
  },
  {
   "cell_type": "code",
   "execution_count": null,
   "id": "157a7c88",
   "metadata": {},
   "outputs": [],
   "source": []
  },
  {
   "cell_type": "code",
   "execution_count": 199,
   "id": "de4d7219",
   "metadata": {},
   "outputs": [
    {
     "name": "stdout",
     "output_type": "stream",
     "text": [
      "Cep inválido !\n"
     ]
    }
   ],
   "source": [
    "response = requests.get(f'http://www.viacep.com.br/ws/2592300/json/')\n",
    "if response.status_code == 200:\n",
    "    print('Tudo ok')\n",
    "else:\n",
    "    print('Cep inválido !')\n"
   ]
  },
  {
   "cell_type": "code",
   "execution_count": 187,
   "id": "dc172e8b",
   "metadata": {},
   "outputs": [
    {
     "data": {
      "text/plain": [
       "'{\"0\":{\"nome\":\"rafa\",\"sobrenome\":\"silva\",\"email\":\"rafa@com\"},\"1\":{\"nome\":\"teclado\",\"sobrenome\":\"sem fio\",\"email\":\"tec@com\"}}'"
      ]
     },
     "execution_count": 187,
     "metadata": {},
     "output_type": "execute_result"
    }
   ],
   "source": [
    "a= df1.to_json(orient='index')\n",
    "a"
   ]
  },
  {
   "cell_type": "code",
   "execution_count": null,
   "id": "b61d9e11",
   "metadata": {},
   "outputs": [],
   "source": []
  }
 ],
 "metadata": {
  "kernelspec": {
   "display_name": "Python 3",
   "language": "python",
   "name": "python3"
  },
  "language_info": {
   "codemirror_mode": {
    "name": "ipython",
    "version": 3
   },
   "file_extension": ".py",
   "mimetype": "text/x-python",
   "name": "python",
   "nbconvert_exporter": "python",
   "pygments_lexer": "ipython3",
   "version": "3.8.8"
  }
 },
 "nbformat": 4,
 "nbformat_minor": 5
}
